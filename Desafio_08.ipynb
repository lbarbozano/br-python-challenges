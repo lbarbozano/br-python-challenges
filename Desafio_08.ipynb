{
  "nbformat": 4,
  "nbformat_minor": 0,
  "metadata": {
    "anaconda-cloud": {},
    "kernelspec": {
      "display_name": "Python 3",
      "language": "python",
      "name": "python3"
    },
    "language_info": {
      "codemirror_mode": {
        "name": "ipython",
        "version": 3
      },
      "file_extension": ".py",
      "mimetype": "text/x-python",
      "name": "python",
      "nbconvert_exporter": "python",
      "pygments_lexer": "ipython3",
      "version": "3.6.5"
    },
    "colab": {
      "name": "Desafio 8.ipynb",
      "provenance": [],
      "include_colab_link": true
    }
  },
  "cells": [
    {
      "cell_type": "markdown",
      "metadata": {
        "id": "view-in-github",
        "colab_type": "text"
      },
      "source": [
        "<a href=\"https://colab.research.google.com/github/lbarbozano/br-python-challenges/blob/master/Desafio_08.ipynb\" target=\"_parent\"><img src=\"https://colab.research.google.com/assets/colab-badge.svg\" alt=\"Open In Colab\"/></a>"
      ]
    },
    {
      "cell_type": "markdown",
      "metadata": {
        "id": "o3tkeMDNf6Jo"
      },
      "source": [
        "### Desafio 8\n",
        "\n",
        "Escreva um script Python para encontrar as 10 palavras mais longas em um arquivo.\n",
        "\n",
        "O arquivo TXT está localizado na mesma pasta do projeto (texto.txt)."
      ]
    },
    {
      "cell_type": "markdown",
      "metadata": {
        "id": "gDTo94RhqGki"
      },
      "source": [
        "#What is Python language?Python is a widely used high-level, general-purpose, interpreted, dynamic programming language.Its design philosophy emphasizes code readability, and its syntax allows programmers to express concepts in fewer lines of code than possible in languages such as C++ or Java.Python supports multiple programming paradigms, including object-oriented, imperative and functional programming or procedural styles.It features a dynamic type system and automatic memory management and has a large and comprehensive standard library.The best way we learn anything is by practice and exercise questions. We  have started this section for those (beginner to intermediate) who are familiar with Python."
      ]
    },
    {
      "cell_type": "code",
      "metadata": {
        "id": "IeS_GHg6qWAP"
      },
      "source": [
        "edit = \"/text.txt\"\n",
        "org = edit\n",
        "\n",
        "def my_len(n):\n",
        "  return len(n)\n",
        "\n",
        "  with open(org,'r') as file:\n",
        "\n",
        "    palavras = []\n",
        "\n",
        "    for lines in file:      \n",
        "      split_list = lines.split(\" \")\n",
        "\n",
        "      for split in split_list:\n",
        "        if split == '' or split == '\\n':\n",
        "          pass\n",
        "        else:\n",
        "          palavras.append(split)\n",
        "\n",
        "          leandro = sorted(res,key=lambda x: len(x), reverse=True)\n",
        "          leandro = leandro[:10]\n",
        "          print(leandro)"
      ],
      "execution_count": 82,
      "outputs": []
    }
  ]
}